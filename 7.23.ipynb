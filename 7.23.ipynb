{
 "cells": [
  {
   "cell_type": "markdown",
   "metadata": {},
   "source": [
    "# 对象和类\n",
    "- 一个学生，一张桌子，一个圆都是对象\n",
    "- 对象是类的一个实例，你可以创建多个对象，创建类的一个实例过程被称为实例化，\n",
    "- 在Python中对象就是实例，而实例就是对象"
   ]
  },
  {
   "cell_type": "markdown",
   "metadata": {},
   "source": [
    "## 定义类\n",
    "class ClassName:\n",
    "\n",
    "    do something\n",
    "    \n",
    "- class 类的表示与def 一样\n",
    "- 类名最好使用驼峰式\n",
    "- 在Python2中类是需要继承基类object的，在Python中默认继承，可写可不写\n",
    "- 可以将普通代码理解为皮肤，而函数可以理解为内衣，那么类可以理解为外套"
   ]
  },
  {
   "cell_type": "code",
   "execution_count": 34,
   "metadata": {},
   "outputs": [],
   "source": [
    "# 类必须初始化,是用self,初始化自身.\n",
    "# 类里面所有的函数中的第一个变量不再是参数,而是一个印记.\n",
    "# 在类中,如果有参数需要多次使用,那么就可以将其设置为共享参数\n",
    "class Joker:\n",
    "    def __init__(self,num1,num2):\n",
    "        print('我初始化了')\n",
    "        # 参数共享\n",
    "        self.num1 = num1\n",
    "        self.num2 = num2\n",
    "        print(self.num1,self.num2)\n",
    "    def SUM(self,name):\n",
    "        print(name)\n",
    "        return self.num1 + self.num2\n",
    "    def cheng(self):\n",
    "        return self.num1 * self.num2"
   ]
  },
  {
   "cell_type": "code",
   "execution_count": 35,
   "metadata": {},
   "outputs": [
    {
     "name": "stdout",
     "output_type": "stream",
     "text": [
      "我初始化了\n",
      "1 2\n"
     ]
    }
   ],
   "source": [
    "huwang = Joker(num1=1,num2=2) # () 代表直接走初始化函数"
   ]
  },
  {
   "cell_type": "code",
   "execution_count": 36,
   "metadata": {},
   "outputs": [
    {
     "name": "stdout",
     "output_type": "stream",
     "text": [
      "JJJ\n"
     ]
    },
    {
     "data": {
      "text/plain": [
       "3"
      ]
     },
     "execution_count": 36,
     "metadata": {},
     "output_type": "execute_result"
    }
   ],
   "source": [
    "huwang.SUM(name='JJJ')"
   ]
  },
  {
   "cell_type": "code",
   "execution_count": 33,
   "metadata": {},
   "outputs": [
    {
     "data": {
      "text/plain": [
       "2"
      ]
     },
     "execution_count": 33,
     "metadata": {},
     "output_type": "execute_result"
    }
   ],
   "source": [
    "huwang.cheng()"
   ]
  },
  {
   "cell_type": "markdown",
   "metadata": {},
   "source": [
    "## 定义一个不含初始化__init__的简单类\n",
    "class ClassName:\n",
    "\n",
    "    joker = “Home”\n",
    "    \n",
    "    def func():\n",
    "        print('Worker')\n",
    "    \n",
    "- 尽量少使用"
   ]
  },
  {
   "cell_type": "markdown",
   "metadata": {},
   "source": [
    "\n",
    "\n",
    "## 定义一个标准类\n",
    "- __init__ 代表初始化，可以初始化任何动作\n",
    "- 此时类调用要使用()，其中（）可以理解为开始初始化\n",
    "- 初始化内的元素，类中其他的函数可以共享\n",
    "![](../Photo/85.png)"
   ]
  },
  {
   "cell_type": "markdown",
   "metadata": {},
   "source": [
    "- Circle 和 className_ 的第一个区别有 __init__ 这个函数\n",
    "- 。。。。   第二个区别，类中的每一个函数都有self的这个“参数”"
   ]
  },
  {
   "cell_type": "markdown",
   "metadata": {},
   "source": [
    "## 何为self？\n",
    "- self 是指向对象本身的参数\n",
    "- self 只是一个命名规则，其实可以改变的，但是我们约定俗成的是self，也便于理解\n",
    "- 使用了self就可以访问类中定义的成员\n",
    "<img src=\"../Photo/86.png\"></img>"
   ]
  },
  {
   "cell_type": "markdown",
   "metadata": {},
   "source": [
    "## 使用类 Cirlcle"
   ]
  },
  {
   "cell_type": "markdown",
   "metadata": {},
   "source": [
    "## 类的传参\n",
    "- class ClassName:\n",
    "    \n",
    "        def __init__(self, para1,para2...)：\n",
    "            \n",
    "            self.para1 = para1\n",
    "            \n",
    "            self.para2 = para2"
   ]
  },
  {
   "cell_type": "markdown",
   "metadata": {},
   "source": [
    "## EP:\n",
    "- A：定义一个类，类中含有两个功能：\n",
    "    - 1、产生3个随机数，获取最大值\n",
    "    - 2、产生3个随机数，获取最小值\n",
    "- B：定义一个类，（类中函数的嵌套使用）\n",
    "    - 1、第一个函数的功能为：输入一个数字\n",
    "    - 2、第二个函数的功能为：使用第一个函数中得到的数字进行平方处理\n",
    "    - 3、第三个函数的功能为：得到平方处理后的数字 - 原来输入的数字，并打印结果"
   ]
  },
  {
   "cell_type": "code",
   "execution_count": 83,
   "metadata": {},
   "outputs": [],
   "source": [
    "class Joker2:\n",
    "    \"\"\"\n",
    "    Implement Login Class.\n",
    "    \"\"\"\n",
    "    def __init__(self):\n",
    "        \"\"\"\n",
    "        Initialization class\n",
    "        Arguments:\n",
    "        ---------\n",
    "            name: xxx\n",
    "            None.\n",
    "        Returns:\n",
    "        --------\n",
    "            None.\n",
    "        \"\"\"\n",
    "        self.account = '123'\n",
    "        self.password = '123'\n",
    "    def Account(self):\n",
    "        \"\"\"\n",
    "        Input Account value\n",
    "        Arguments:\n",
    "        ---------\n",
    "            None.\n",
    "        Returns:\n",
    "        --------\n",
    "            None.\n",
    "        \"\"\"\n",
    "        self.acc = input('请输入账号:>>')\n",
    "    def Password(self):\n",
    "        \"\"\"\n",
    "        Input Password value\n",
    "        Arguments:\n",
    "        ---------\n",
    "            None.\n",
    "        Returns:\n",
    "        --------\n",
    "            None.\n",
    "        \"\"\"\n",
    "        self.passwor = input('请输入密码:>>')\n",
    "    def Check(self):\n",
    "        \"\"\"\n",
    "        Check account and password\n",
    "        Note:\n",
    "        ----\n",
    "            we need \"and\" connect.\n",
    "            if account and password is right, then login OK.\n",
    "            else: running Veriy func.\n",
    "        \"\"\"\n",
    "        if self.acc == self.account and self.passwor == self.password:\n",
    "            print('Success')\n",
    "        else:\n",
    "            # running Verify !\n",
    "            self.Verify()\n",
    "    def Verify(self):\n",
    "        \"\"\"\n",
    "        Verify ....\n",
    "        \"\"\"\n",
    "        Verify_Var = 123\n",
    "        print('验证码是:',Verify_Var)\n",
    "        while 1:\n",
    "            User_Verify = eval(input('请输入验证码:>>'))\n",
    "            if User_Verify == Verify_Var:\n",
    "                print('Failed')\n",
    "                break\n",
    "    def Start(self):\n",
    "        \"\"\"\n",
    "        Start definelogistics.\n",
    "        \"\"\"\n",
    "        self.Account()\n",
    "        self.Password()\n",
    "        self.Check()"
   ]
  },
  {
   "cell_type": "code",
   "execution_count": 84,
   "metadata": {},
   "outputs": [],
   "source": [
    "# 创建类的一个实例\n",
    "a = Joker2()"
   ]
  },
  {
   "cell_type": "code",
   "execution_count": 82,
   "metadata": {},
   "outputs": [
    {
     "name": "stdout",
     "output_type": "stream",
     "text": [
      "请输入账号:>>123\n",
      "请输入密码:>>1\n",
      "验证码是: 123\n",
      "请输入验证码:>>1\n",
      "请输入验证码:>>1\n",
      "请输入验证码:>>123\n",
      "Failed\n"
     ]
    }
   ],
   "source": [
    "a.Start()"
   ]
  },
  {
   "cell_type": "markdown",
   "metadata": {},
   "source": [
    "## 类的继承\n",
    "- 类的单继承\n",
    "- 类的多继承\n",
    "- 继承标识\n",
    ">  class SonClass(FatherClass):\n",
    "            \n",
    "            def __init__(self):\n",
    "            \n",
    "                FatherClass.__init__(self)"
   ]
  },
  {
   "cell_type": "code",
   "execution_count": 110,
   "metadata": {
    "scrolled": true
   },
   "outputs": [
    {
     "data": {
      "text/plain": [
       "1000"
      ]
     },
     "execution_count": 110,
     "metadata": {},
     "output_type": "execute_result"
    }
   ],
   "source": [
    "a = 100\n",
    "a = 1000\n",
    "a"
   ]
  },
  {
   "cell_type": "markdown",
   "metadata": {},
   "source": [
    "私有变量,不可继承,不可在外部调用,但是可以在内部使用."
   ]
  },
  {
   "cell_type": "code",
   "execution_count": 32,
   "metadata": {},
   "outputs": [],
   "source": [
    "class A:\n",
    "    def __init__(self):\n",
    "        self.__a = 'a'\n",
    "    def a_(self):\n",
    "        print('aa')\n",
    "        print(self.__a)"
   ]
  },
  {
   "cell_type": "code",
   "execution_count": 35,
   "metadata": {},
   "outputs": [
    {
     "name": "stdout",
     "output_type": "stream",
     "text": [
      "hahah\n"
     ]
    }
   ],
   "source": [
    "def b():\n",
    "    a()\n",
    "    \n",
    "def a():\n",
    "    print('hahah')\n",
    "b()"
   ]
  },
  {
   "cell_type": "markdown",
   "metadata": {},
   "source": [
    "# _ _ -- + = / \\ { } [] ! ~ !@ # $ % ^ & * ( ) < > ……"
   ]
  },
  {
   "cell_type": "markdown",
   "metadata": {},
   "source": [
    "## 私有数据域(私有变量，或者私有函数)\n",
    "- 在Python中 变量名或者函数名使用双下划线代表私有  \\__Joker,   def \\__Joker():\n",
    "- 私有数据域不可继承\n",
    "- 私有数据域强制继承   \\__dir__()"
   ]
  },
  {
   "cell_type": "markdown",
   "metadata": {},
   "source": [
    "![](../Photo/87.png)"
   ]
  },
  {
   "cell_type": "markdown",
   "metadata": {},
   "source": [
    "## EP:\n",
    "![](../Photo/88.png)\n",
    "![](../Photo/89.png)\n",
    "![](../Photo/90.png)\n"
   ]
  },
  {
   "cell_type": "markdown",
   "metadata": {},
   "source": [
    "## 类的其他\n",
    "- 类的封装\n",
    "    - 实际上就是将一类功能放在一起，方便未来进行管理\n",
    "- 类的继承（上面已经讲过）\n",
    "- 类的多态\n",
    "    - 包括装饰器：将放在以后处理高级类中教\n",
    "    - 装饰器的好处：当许多类中的函数需要使用同一个功能的时候，那么使用装饰器就会方便许多\n",
    "    - 装饰器是有固定的写法\n",
    "        - 其包括普通装饰器与带参装饰器"
   ]
  },
  {
   "cell_type": "markdown",
   "metadata": {},
   "source": [
    "# Homewor\n",
    "## UML类图可以不用画\n",
    "## UML 实际上就是一个思维图\n",
    "- 1\n",
    "![](../Photo/91.png)"
   ]
  },
  {
   "cell_type": "code",
   "execution_count": 20,
   "metadata": {},
   "outputs": [
    {
     "name": "stdout",
     "output_type": "stream",
     "text": [
      "宽为4.0高为40.0的面积为：160.000，周长为：88.000\n",
      "宽为3.5高为35.7的面积为：124.950，周长为：78.400\n"
     ]
    }
   ],
   "source": [
    "class Rectangle(object):\n",
    "    area = 0\n",
    "    perimeter = 0\n",
    "    def __init__(self,width=1,height=2):\n",
    "        \"\"\"\n",
    "            功能:初始化变量\n",
    "            参数：\n",
    "                width：矩形的长，无传参时默认值为1\n",
    "                height：矩形的宽，无传参时默认值为2\n",
    "        \"\"\"\n",
    "        self.width = width\n",
    "        self.height= height\n",
    "    def getArea(self):\n",
    "        \"\"\"\n",
    "            功能：计算矩形的面积\n",
    "        \"\"\"\n",
    "        area=self.width*self.height\n",
    "        return area\n",
    "    def getPerimeter(self):\n",
    "        \"\"\"\n",
    "            功能：计算矩形的周长\n",
    "        \"\"\"\n",
    "        perimeter=2*(self.width+self.height)\n",
    "        return perimeter\n",
    "    \n",
    "rectangle1 = Rectangle(4,40)\n",
    "print(\"宽为4.0高为40.0的面积为：%.3f，周长为：%.3f\"%(rectangle1.getArea(),rectangle1.getPerimeter()))\n",
    "rectangle2 = Rectangle(3.5,35.7)\n",
    "print(\"宽为3.5高为35.7的面积为：%.3f，周长为：%.3f\"%(rectangle2.getArea(),rectangle2.getPerimeter()))"
   ]
  },
  {
   "cell_type": "markdown",
   "metadata": {},
   "source": [
    "- 2\n",
    "![](../Photo/92.png)"
   ]
  },
  {
   "cell_type": "code",
   "execution_count": 45,
   "metadata": {},
   "outputs": [
    {
     "name": "stdout",
     "output_type": "stream",
     "text": [
      "0.00375\n",
      "75.0\n",
      "17500\n",
      "23000\n"
     ]
    }
   ],
   "source": [
    "class Account(object):\n",
    "    def __init__(self,id_=0,balance=100,annualInterestRate=0):\n",
    "        self.__id_ = id_\n",
    "        self.__balance = balance\n",
    "        self.__annualInterestRate = annualInterestRate\n",
    "    def getMonthlyInterestRate(self):\n",
    "        return self.__annualInterestRate*0.01/12.0\n",
    "    def getMonthlyInterest(self):\n",
    "        return self.__balance*self.__annualInterestRate*0.01/12.0\n",
    "    def withdraw(self,num):\n",
    "        return self.__balance-num\n",
    "    def deposit(self,num):\n",
    "        return self.__balance+num\n",
    "    def Runing(self):\n",
    "        getMonthlyInterestRate()\n",
    "        getMonthlyInterest()\n",
    "        withdraw(2500)\n",
    "        deposit(3000)\n",
    "account =Account(1122,20000,4.5)\n",
    "print(account.getMonthlyInterestRate())\n",
    "print(account.getMonthlyInterest())\n",
    "print(account.withdraw(2500))\n",
    "print(account.deposit(3000))"
   ]
  },
  {
   "cell_type": "markdown",
   "metadata": {},
   "source": [
    "- 3\n",
    "![](../Photo/93.png)"
   ]
  },
  {
   "cell_type": "code",
   "execution_count": 6,
   "metadata": {},
   "outputs": [
    {
     "name": "stdout",
     "output_type": "stream",
     "text": [
      "速度等级为：3 风扇半径为：10 风扇颜色为：yellow 打开状态为：True\n",
      "速度等级为：2 风扇半径为：5 风扇颜色为：blue 打开状态为：False\n"
     ]
    }
   ],
   "source": [
    "class Fan:\n",
    "    def __init__(self,speed=1,radius=5,color='blue',on=False):\n",
    "        self.__speed=speed\n",
    "        self.__on =on\n",
    "        self.__radius=radius\n",
    "        self.__color=color\n",
    "        \n",
    "    def get_(self):\n",
    "        print(\"速度等级为：%d 风扇半径为：%d 风扇颜色为：%s 打开状态为：%s\"%(self.__speed,self.__radius,self.__color,self.__on))\n",
    "    \n",
    "fan1 = Fan(3,10,'yellow',True)\n",
    "fan1.get_()\n",
    "fan2 = Fan(2,5,'blue',False)\n",
    "fan2.get_()"
   ]
  },
  {
   "cell_type": "markdown",
   "metadata": {},
   "source": [
    "- 4\n",
    "![](../Photo/94.png)\n",
    "![](../Photo/95.png)"
   ]
  },
  {
   "cell_type": "code",
   "execution_count": 27,
   "metadata": {},
   "outputs": [
    {
     "name": "stdout",
     "output_type": "stream",
     "text": [
      "24\n",
      "13.847913609428954\n"
     ]
    }
   ],
   "source": [
    "import math\n",
    "class RegularPolygon:\n",
    "    def __init__(self,n=3,side=1,x=0,y=0):\n",
    "        self.__n = n\n",
    "        self.__side = side\n",
    "        self.__x = x\n",
    "        self.__y = y\n",
    "        \n",
    "    def getPerimeter(self):\n",
    "        return self.__n*self.__side\n",
    "    def getArea(self):\n",
    "        return (self.__n*self.__side**2)/4*math.tan(3.14/self.__n)\n",
    "    \n",
    "reg = RegularPolygon(6,4)\n",
    "print(reg.getPerimeter())\n",
    "print(reg.getArea())"
   ]
  },
  {
   "cell_type": "markdown",
   "metadata": {},
   "source": [
    "- 5\n",
    "![](../Photo/96.png)"
   ]
  },
  {
   "cell_type": "code",
   "execution_count": 23,
   "metadata": {},
   "outputs": [
    {
     "name": "stdout",
     "output_type": "stream",
     "text": [
      "请输入a,b,c,d,e,f的值：1,2,3,4,5,6\n",
      "x= -4.0\n",
      "y= 4.5\n"
     ]
    }
   ],
   "source": [
    "class LinearEquation:\n",
    "    \n",
    "    def __init__(self,a,b,c,d,e,f):\n",
    "        self.__a = a\n",
    "        self.__b = b\n",
    "        self.__c = c\n",
    "        self.__d = d\n",
    "        self.__e = e\n",
    "        self.__f = f\n",
    "        self.x = 0\n",
    "        self.y = 0\n",
    "    def isSolvable(self):\n",
    "        \n",
    "        if self.__a*self.__d-self.__b*self.__c != 0:\n",
    "            self.x = (self.__e*self.__d-self.__b*self.__f)/(self.__a*self.__d-self.__b*self.__c)\n",
    "            self.y = (self.__a*self.__f-self.__e*self.__c)/(self.__a*self.__d-self.__b*self.__c)\n",
    "            return True\n",
    "        else:\n",
    "            return False\n",
    "    def getX(self):\n",
    "        return self.x\n",
    "    def getY(self):\n",
    "        return self.y\n",
    "\n",
    "a,b,c,d,e,f = eval(input(\"请输入a,b,c,d,e,f的值：\"))\n",
    "linear = LinearEquation(a,b,c,d,e,f)\n",
    "if linear.isSolvable():\n",
    "    print(\"x=\",linear.getX())\n",
    "    print(\"y=\",linear.getY())\n",
    "else:\n",
    "    print(\"这个方程式无解\")"
   ]
  },
  {
   "cell_type": "markdown",
   "metadata": {},
   "source": [
    "- 6\n",
    "![](../Photo/97.png)"
   ]
  },
  {
   "cell_type": "code",
   "execution_count": 31,
   "metadata": {},
   "outputs": [
    {
     "name": "stdout",
     "output_type": "stream",
     "text": [
      "Enter the endpoints of the first line segment:2.0,2.0,0,0\n",
      "Enter the endpoints of the second line segment:0,2.0,2.0,0\n",
      "The intersecting point is : [1.0, 1.0]\n"
     ]
    }
   ],
   "source": [
    "class LinearEquation:\n",
    "    def __init__(self,x1,y1,x2,y2,x3,y3,x4,y4):\n",
    "        self.x1=x1\n",
    "        self.x2=x2\n",
    "        self.x3=x3\n",
    "        self.x4=x4\n",
    "        self.y1=y1\n",
    "        self.y2=y1\n",
    "        self.y3=y3\n",
    "        self.y4=y4\n",
    "    def findIntersection(self):\n",
    "        px= ( (x1*y2-y1*x2)*(x3-x4)-(x1-x2)*(x3*y4-y3*x4) ) / ( (x1-x2)*(y3-y4)-(y1-y2)*(x3-x4) ) \n",
    "        py= ( (x1*y2-y1*x2)*(y3-y4)-(y1-y2)*(x3*y4-y3*x4) ) / ( (x1-x2)*(y3-y4)-(y1-y2)*(x3-x4) )\n",
    "        return [px, py]\n",
    "x1,y1,x2,y2=eval(input(\"Enter the endpoints of the first line segment:\"))\n",
    "x3,y3,x4,y4=eval(input(\"Enter the endpoints of the second line segment:\"))\n",
    "linear = LinearEquation(x1,y1,x2,y2,x3,y3,x4,y4)\n",
    "print(\"The intersecting point is :\",linear.findIntersection())"
   ]
  },
  {
   "cell_type": "markdown",
   "metadata": {},
   "source": [
    "- 7\n",
    "![](../Photo/98.png)"
   ]
  },
  {
   "cell_type": "code",
   "execution_count": 32,
   "metadata": {},
   "outputs": [
    {
     "name": "stdout",
     "output_type": "stream",
     "text": [
      "请输入a,b,c,d,e,f的值：1,2,3,4,5,6\n",
      "x= -4.0\n",
      "y= 4.5\n"
     ]
    }
   ],
   "source": [
    "class LinearEquation:\n",
    "    \n",
    "    def __init__(self,a,b,c,d,e,f):\n",
    "        self.__a = a\n",
    "        self.__b = b\n",
    "        self.__c = c\n",
    "        self.__d = d\n",
    "        self.__e = e\n",
    "        self.__f = f\n",
    "        self.x = 0\n",
    "        self.y = 0\n",
    "    def isSolvable(self):\n",
    "        \n",
    "        if self.__a*self.__d-self.__b*self.__c != 0:\n",
    "            self.x = (self.__e*self.__d-self.__b*self.__f)/(self.__a*self.__d-self.__b*self.__c)\n",
    "            self.y = (self.__a*self.__f-self.__e*self.__c)/(self.__a*self.__d-self.__b*self.__c)\n",
    "            return True\n",
    "        else:\n",
    "            return False\n",
    "    def getX(self):\n",
    "        return self.x\n",
    "    def getY(self):\n",
    "        return self.y\n",
    "\n",
    "a,b,c,d,e,f = eval(input(\"请输入a,b,c,d,e,f的值：\"))\n",
    "linear = LinearEquation(a,b,c,d,e,f)\n",
    "if linear.isSolvable():\n",
    "    print(\"x=\",linear.getX())\n",
    "    print(\"y=\",linear.getY())\n",
    "else:\n",
    "    print(\"这个方程式无解\")"
   ]
  }
 ],
 "metadata": {
  "kernelspec": {
   "display_name": "Python 3",
   "language": "python",
   "name": "python3"
  },
  "language_info": {
   "codemirror_mode": {
    "name": "ipython",
    "version": 3
   },
   "file_extension": ".py",
   "mimetype": "text/x-python",
   "name": "python",
   "nbconvert_exporter": "python",
   "pygments_lexer": "ipython3",
   "version": "3.7.3"
  }
 },
 "nbformat": 4,
 "nbformat_minor": 2
}
