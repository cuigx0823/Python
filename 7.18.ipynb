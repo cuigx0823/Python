{
 "cells": [
  {
   "cell_type": "markdown",
   "metadata": {},
   "source": [
    "# 选择\n",
    "## 布尔类型、数值和表达式\n",
    "![](../Photo/33.png)\n",
    "- 注意：比较运算符的相等是两个等号，一个等到代表赋值\n",
    "- 在Python中可以用整型0来代表False，其他数字来代表True\n",
    "- 后面还会讲到 is 在判断语句中的用发"
   ]
  },
  {
   "cell_type": "code",
   "execution_count": 32,
   "metadata": {},
   "outputs": [
    {
     "name": "stdout",
     "output_type": "stream",
     "text": [
      "4370970016 4370970016\n"
     ]
    },
    {
     "data": {
      "text/plain": [
       "False"
      ]
     },
     "execution_count": 32,
     "metadata": {},
     "output_type": "execute_result"
    }
   ],
   "source": [
    "a = id(1)\n",
    "b = id(1)\n",
    "\n",
    "print(a,b)\n",
    "# 因为a和b并不是同一个对象\n",
    "a is b"
   ]
  },
  {
   "cell_type": "code",
   "execution_count": 33,
   "metadata": {},
   "outputs": [
    {
     "data": {
      "text/plain": [
       "True"
      ]
     },
     "execution_count": 33,
     "metadata": {},
     "output_type": "execute_result"
    }
   ],
   "source": [
    "a = id(1)\n",
    "b = a\n",
    "a is b"
   ]
  },
  {
   "cell_type": "code",
   "execution_count": 22,
   "metadata": {},
   "outputs": [],
   "source": [
    "a = True\n",
    "b = False"
   ]
  },
  {
   "cell_type": "code",
   "execution_count": 31,
   "metadata": {},
   "outputs": [
    {
     "data": {
      "text/plain": [
       "4370566624"
      ]
     },
     "execution_count": 31,
     "metadata": {},
     "output_type": "execute_result"
    }
   ],
   "source": [
    "id(True)"
   ]
  },
  {
   "cell_type": "code",
   "execution_count": null,
   "metadata": {},
   "outputs": [],
   "source": []
  },
  {
   "cell_type": "code",
   "execution_count": 23,
   "metadata": {},
   "outputs": [
    {
     "data": {
      "text/plain": [
       "False"
      ]
     },
     "execution_count": 23,
     "metadata": {},
     "output_type": "execute_result"
    }
   ],
   "source": [
    "a == b"
   ]
  },
  {
   "cell_type": "code",
   "execution_count": 24,
   "metadata": {},
   "outputs": [
    {
     "data": {
      "text/plain": [
       "False"
      ]
     },
     "execution_count": 24,
     "metadata": {},
     "output_type": "execute_result"
    }
   ],
   "source": [
    "a is b"
   ]
  },
  {
   "cell_type": "markdown",
   "metadata": {},
   "source": [
    "## 字符串的比较使用ASCII值"
   ]
  },
  {
   "cell_type": "code",
   "execution_count": 37,
   "metadata": {},
   "outputs": [
    {
     "data": {
      "text/plain": [
       "False"
      ]
     },
     "execution_count": 37,
     "metadata": {},
     "output_type": "execute_result"
    }
   ],
   "source": [
    "a = \"jokar\"\n",
    "b = \"jokar\"\n",
    "a > b"
   ]
  },
  {
   "cell_type": "markdown",
   "metadata": {},
   "source": [
    "## Markdown \n",
    "- https://github.com/younghz/Markdown"
   ]
  },
  {
   "cell_type": "markdown",
   "metadata": {},
   "source": [
    "肯定会给发数据划分啊"
   ]
  },
  {
   "cell_type": "markdown",
   "metadata": {},
   "source": [
    "$\\sum_{j=1}^{N}x_{j}$"
   ]
  },
  {
   "cell_type": "code",
   "execution_count": null,
   "metadata": {},
   "outputs": [],
   "source": []
  },
  {
   "cell_type": "markdown",
   "metadata": {},
   "source": [
    "## EP:\n",
    "- <img src=\"../Photo/34.png\"></img>\n",
    "- 输入一个数字，判断其实奇数还是偶数"
   ]
  },
  {
   "cell_type": "markdown",
   "metadata": {},
   "source": [
    "## 产生随机数字\n",
    "- 函数random.randint(a,b) 可以用来产生一个a和b之间且包括a和b的随机整数"
   ]
  },
  {
   "cell_type": "code",
   "execution_count": 38,
   "metadata": {},
   "outputs": [],
   "source": [
    "import random"
   ]
  },
  {
   "cell_type": "code",
   "execution_count": 40,
   "metadata": {},
   "outputs": [
    {
     "data": {
      "text/plain": [
       "1"
      ]
     },
     "execution_count": 40,
     "metadata": {},
     "output_type": "execute_result"
    }
   ],
   "source": [
    "random.randint(0,1)"
   ]
  },
  {
   "cell_type": "code",
   "execution_count": null,
   "metadata": {},
   "outputs": [],
   "source": [
    "if condition:\n",
    "    do someething\n",
    "else:\n",
    "    other"
   ]
  },
  {
   "cell_type": "code",
   "execution_count": null,
   "metadata": {},
   "outputs": [],
   "source": [
    "for iter_ in xxx:\n",
    "    do something\n"
   ]
  },
  {
   "cell_type": "code",
   "execution_count": 46,
   "metadata": {},
   "outputs": [
    {
     "name": "stdout",
     "output_type": "stream",
     "text": [
      "Nameage\n",
      "10\n"
     ]
    }
   ],
   "source": [
    "age = 10\n",
    "Joker = eval(input('Name'))\n",
    "print(Joker)"
   ]
  },
  {
   "cell_type": "markdown",
   "metadata": {},
   "source": [
    "产生一个随机数，你去输入，如果你输入的数大于随机数，那么就告诉你太大了，反之，太小了，\n",
    "然后你一直输入，知道它满意为止"
   ]
  },
  {
   "cell_type": "code",
   "execution_count": 55,
   "metadata": {},
   "outputs": [],
   "source": [
    "number =random.randint(0,5)"
   ]
  },
  {
   "cell_type": "code",
   "execution_count": 58,
   "metadata": {},
   "outputs": [
    {
     "name": "stdout",
     "output_type": "stream",
     "text": [
      ">>0\n",
      "太小啦\n",
      ">>0\n",
      "太小啦\n",
      ">>0\n",
      "太小啦\n",
      ">>0\n",
      "太小啦\n",
      ">>0\n",
      "太小啦\n"
     ]
    }
   ],
   "source": [
    "for i in range(5):\n",
    "    input_  = eval(input('>>'))\n",
    "    if input_ > number:\n",
    "        print('太大啦')\n",
    "    if input_ < number:\n",
    "        print('太小啦')\n",
    "    if number == input_:\n",
    "        print('正好')\n",
    "        break"
   ]
  },
  {
   "cell_type": "code",
   "execution_count": 59,
   "metadata": {},
   "outputs": [
    {
     "name": "stdout",
     "output_type": "stream",
     "text": [
      "0\n",
      "1\n",
      "2\n",
      "3\n",
      "4\n"
     ]
    }
   ],
   "source": [
    "for i in range(5):\n",
    "    print(i)"
   ]
  },
  {
   "cell_type": "markdown",
   "metadata": {},
   "source": [
    "##  其他random方法\n",
    "- random.random 返回0.0到1.0之间前闭后开区间的随机浮点\n",
    "- random.randrange(a,b) 前闭后开"
   ]
  },
  {
   "cell_type": "code",
   "execution_count": 60,
   "metadata": {},
   "outputs": [
    {
     "data": {
      "text/plain": [
       "0.5903384303938066"
      ]
     },
     "execution_count": 60,
     "metadata": {},
     "output_type": "execute_result"
    }
   ],
   "source": [
    "random.random()"
   ]
  },
  {
   "cell_type": "code",
   "execution_count": 61,
   "metadata": {},
   "outputs": [],
   "source": [
    "import matplotlib.pyplot as plt"
   ]
  },
  {
   "cell_type": "code",
   "execution_count": 64,
   "metadata": {
    "collapsed": true
   },
   "outputs": [
    {
     "name": "stdout",
     "output_type": "stream",
     "text": [
      "[[[41.86550961 15.53771491 17.69573087]\n",
      "  [47.04474791 22.01176278 21.58015959]\n",
      "  [52.22398621 28.48581066 25.46458832]\n",
      "  ...\n",
      "  [95.3843054  93.65789263 63.01406601]\n",
      "  [95.3843054  93.65789263 63.01406601]\n",
      "  [94.52109902 92.79468625 61.28765324]]\n",
      "\n",
      " [[42.2971128  15.9693181  18.12733406]\n",
      "  [47.04474791 22.01176278 21.58015959]\n",
      "  [52.22398621 28.48581066 25.46458832]\n",
      "  ...\n",
      "  [95.3843054  93.65789263 63.01406601]\n",
      "  [95.3843054  93.65789263 63.01406601]\n",
      "  [94.52109902 92.79468625 61.28765324]]\n",
      "\n",
      " [[42.72871599 16.83252448 17.69573087]\n",
      "  [47.4763511  22.44336598 22.01176278]\n",
      "  [52.65558941 28.91741385 25.89619151]\n",
      "  ...\n",
      "  [95.3843054  93.65789263 63.01406601]\n",
      "  [95.3843054  93.65789263 63.01406601]\n",
      "  [94.95270221 93.22628944 62.58246282]]\n",
      "\n",
      " ...\n",
      "\n",
      " [[65.60368516 67.33009793 56.54001813]\n",
      "  [71.21452666 73.37254261 63.4456692 ]\n",
      "  [79.4149873  83.29941603 75.09895538]\n",
      "  ...\n",
      "  [28.91741385 15.10611171 24.16977874]\n",
      "  [29.34901705 15.9693181  23.73817555]\n",
      "  [29.78062024 18.99054044 28.05420747]]\n",
      "\n",
      " [[67.33009793 69.0565107  58.2664309 ]\n",
      "  [72.94093942 75.09895538 65.60368516]\n",
      "  [81.14140007 85.02582879 76.82536815]\n",
      "  ...\n",
      "  [30.64382662 16.83252448 25.89619151]\n",
      "  [29.34901705 15.53771491 24.60138194]\n",
      "  [28.91741385 18.12733406 27.62260428]]\n",
      "\n",
      " [[56.54001813 58.2664309  52.22398621]\n",
      "  [66.03528835 70.78292346 63.87727239]\n",
      "  [80.27819368 87.61544795 79.4149873 ]\n",
      "  ...\n",
      "  [33.66504896 22.87496917 31.07542981]\n",
      "  [30.64382662 19.85374683 28.91741385]\n",
      "  [31.50703301 22.01176278 27.62260428]]]\n"
     ]
    },
    {
     "data": {
      "text/plain": [
       "<matplotlib.image.AxesImage at 0x111f5bcf8>"
      ]
     },
     "execution_count": 64,
     "metadata": {},
     "output_type": "execute_result"
    },
    {
     "data": {
      "image/png": "[encoded data removed]",
      "text/plain": [
       "<Figure size 432x288 with 1 Axes>"
      ]
     },
     "metadata": {
      "needs_background": "light"
     },
     "output_type": "display_data"
    }
   ],
   "source": [
    "image=plt.imread('/Users/huwang/Downloads/cat.jpeg')\n",
    "print(image*random.random())\n",
    "plt.imshow(image)"
   ]
  },
  {
   "cell_type": "markdown",
   "metadata": {},
   "source": [
    "## EP：\n",
    "- 产生两个随机整数number1和number2，然后显示给用户，使用户输入数字的和，并判定其是否正确\n",
    "- 进阶:写一个随机序号点名程序"
   ]
  },
  {
   "cell_type": "code",
   "execution_count": 69,
   "metadata": {
    "collapsed": true
   },
   "outputs": [
    {
     "name": "stdout",
     "output_type": "stream",
     "text": [
      ">>2\n",
      "Sorry~SB.\n",
      ">>3\n",
      "Sorry~SB.\n",
      ">>4\n",
      "Sorry~SB.\n",
      ">>5\n",
      "Sorry~SB.\n",
      ">>6\n",
      "Sorry~SB.\n"
     ]
    },
    {
     "ename": "KeyboardInterrupt",
     "evalue": "",
     "output_type": "error",
     "traceback": [
      "\u001b[0;31m---------------------------------------------------------------------------\u001b[0m",
      "\u001b[0;31mKeyboardInterrupt\u001b[0m                         Traceback (most recent call last)",
      "\u001b[0;32m/anaconda3/lib/python3.7/site-packages/ipykernel/kernelbase.py\u001b[0m in \u001b[0;36m_input_request\u001b[0;34m(self, prompt, ident, parent, password)\u001b[0m\n\u001b[1;32m    877\u001b[0m             \u001b[0;32mtry\u001b[0m\u001b[0;34m:\u001b[0m\u001b[0;34m\u001b[0m\u001b[0;34m\u001b[0m\u001b[0m\n\u001b[0;32m--> 878\u001b[0;31m                 \u001b[0mident\u001b[0m\u001b[0;34m,\u001b[0m \u001b[0mreply\u001b[0m \u001b[0;34m=\u001b[0m \u001b[0mself\u001b[0m\u001b[0;34m.\u001b[0m\u001b[0msession\u001b[0m\u001b[0;34m.\u001b[0m\u001b[0mrecv\u001b[0m\u001b[0;34m(\u001b[0m\u001b[0mself\u001b[0m\u001b[0;34m.\u001b[0m\u001b[0mstdin_socket\u001b[0m\u001b[0;34m,\u001b[0m \u001b[0;36m0\u001b[0m\u001b[0;34m)\u001b[0m\u001b[0;34m\u001b[0m\u001b[0;34m\u001b[0m\u001b[0m\n\u001b[0m\u001b[1;32m    879\u001b[0m             \u001b[0;32mexcept\u001b[0m \u001b[0mException\u001b[0m\u001b[0;34m:\u001b[0m\u001b[0;34m\u001b[0m\u001b[0;34m\u001b[0m\u001b[0m\n",
      "\u001b[0;32m/anaconda3/lib/python3.7/site-packages/jupyter_client/session.py\u001b[0m in \u001b[0;36mrecv\u001b[0;34m(self, socket, mode, content, copy)\u001b[0m\n\u001b[1;32m    802\u001b[0m         \u001b[0;32mtry\u001b[0m\u001b[0;34m:\u001b[0m\u001b[0;34m\u001b[0m\u001b[0;34m\u001b[0m\u001b[0m\n\u001b[0;32m--> 803\u001b[0;31m             \u001b[0mmsg_list\u001b[0m \u001b[0;34m=\u001b[0m \u001b[0msocket\u001b[0m\u001b[0;34m.\u001b[0m\u001b[0mrecv_multipart\u001b[0m\u001b[0;34m(\u001b[0m\u001b[0mmode\u001b[0m\u001b[0;34m,\u001b[0m \u001b[0mcopy\u001b[0m\u001b[0;34m=\u001b[0m\u001b[0mcopy\u001b[0m\u001b[0;34m)\u001b[0m\u001b[0;34m\u001b[0m\u001b[0;34m\u001b[0m\u001b[0m\n\u001b[0m\u001b[1;32m    804\u001b[0m         \u001b[0;32mexcept\u001b[0m \u001b[0mzmq\u001b[0m\u001b[0;34m.\u001b[0m\u001b[0mZMQError\u001b[0m \u001b[0;32mas\u001b[0m \u001b[0me\u001b[0m\u001b[0;34m:\u001b[0m\u001b[0;34m\u001b[0m\u001b[0;34m\u001b[0m\u001b[0m\n",
      "\u001b[0;32m/anaconda3/lib/python3.7/site-packages/zmq/sugar/socket.py\u001b[0m in \u001b[0;36mrecv_multipart\u001b[0;34m(self, flags, copy, track)\u001b[0m\n\u001b[1;32m    469\u001b[0m         \"\"\"\n\u001b[0;32m--> 470\u001b[0;31m         \u001b[0mparts\u001b[0m \u001b[0;34m=\u001b[0m \u001b[0;34m[\u001b[0m\u001b[0mself\u001b[0m\u001b[0;34m.\u001b[0m\u001b[0mrecv\u001b[0m\u001b[0;34m(\u001b[0m\u001b[0mflags\u001b[0m\u001b[0;34m,\u001b[0m \u001b[0mcopy\u001b[0m\u001b[0;34m=\u001b[0m\u001b[0mcopy\u001b[0m\u001b[0;34m,\u001b[0m \u001b[0mtrack\u001b[0m\u001b[0;34m=\u001b[0m\u001b[0mtrack\u001b[0m\u001b[0;34m)\u001b[0m\u001b[0;34m]\u001b[0m\u001b[0;34m\u001b[0m\u001b[0;34m\u001b[0m\u001b[0m\n\u001b[0m\u001b[1;32m    471\u001b[0m         \u001b[0;31m# have first part already, only loop while more to receive\u001b[0m\u001b[0;34m\u001b[0m\u001b[0;34m\u001b[0m\u001b[0;34m\u001b[0m\u001b[0m\n",
      "\u001b[0;32mzmq/backend/cython/socket.pyx\u001b[0m in \u001b[0;36mzmq.backend.cython.socket.Socket.recv\u001b[0;34m()\u001b[0m\n",
      "\u001b[0;32mzmq/backend/cython/socket.pyx\u001b[0m in \u001b[0;36mzmq.backend.cython.socket.Socket.recv\u001b[0;34m()\u001b[0m\n",
      "\u001b[0;32mzmq/backend/cython/socket.pyx\u001b[0m in \u001b[0;36mzmq.backend.cython.socket._recv_copy\u001b[0;34m()\u001b[0m\n",
      "\u001b[0;32m/anaconda3/lib/python3.7/site-packages/zmq/backend/cython/checkrc.pxd\u001b[0m in \u001b[0;36mzmq.backend.cython.checkrc._check_rc\u001b[0;34m()\u001b[0m\n",
      "\u001b[0;31mKeyboardInterrupt\u001b[0m: ",
      "\nDuring handling of the above exception, another exception occurred:\n",
      "\u001b[0;31mKeyboardInterrupt\u001b[0m                         Traceback (most recent call last)",
      "\u001b[0;32m<ipython-input-69-ccad54a8a2ca>\u001b[0m in \u001b[0;36m<module>\u001b[0;34m\u001b[0m\n\u001b[1;32m      3\u001b[0m \u001b[0;34m\u001b[0m\u001b[0m\n\u001b[1;32m      4\u001b[0m \u001b[0;32mwhile\u001b[0m \u001b[0;36m1\u001b[0m\u001b[0;34m:\u001b[0m\u001b[0;34m\u001b[0m\u001b[0;34m\u001b[0m\u001b[0m\n\u001b[0;32m----> 5\u001b[0;31m     \u001b[0msum_\u001b[0m \u001b[0;34m=\u001b[0m \u001b[0meval\u001b[0m\u001b[0;34m(\u001b[0m\u001b[0minput\u001b[0m\u001b[0;34m(\u001b[0m\u001b[0;34m'>>'\u001b[0m\u001b[0;34m)\u001b[0m\u001b[0;34m)\u001b[0m\u001b[0;34m\u001b[0m\u001b[0;34m\u001b[0m\u001b[0m\n\u001b[0m\u001b[1;32m      6\u001b[0m     \u001b[0;32mif\u001b[0m \u001b[0msum_\u001b[0m \u001b[0;34m==\u001b[0m \u001b[0;34m(\u001b[0m\u001b[0mnumber_1\u001b[0m \u001b[0;34m+\u001b[0m \u001b[0mnumber_2\u001b[0m\u001b[0;34m)\u001b[0m\u001b[0;34m:\u001b[0m\u001b[0;34m\u001b[0m\u001b[0;34m\u001b[0m\u001b[0m\n\u001b[1;32m      7\u001b[0m         \u001b[0mprint\u001b[0m\u001b[0;34m(\u001b[0m\u001b[0;34m'Congratulations! Correct~'\u001b[0m\u001b[0;34m)\u001b[0m\u001b[0;34m\u001b[0m\u001b[0;34m\u001b[0m\u001b[0m\n",
      "\u001b[0;32m/anaconda3/lib/python3.7/site-packages/ipykernel/kernelbase.py\u001b[0m in \u001b[0;36mraw_input\u001b[0;34m(self, prompt)\u001b[0m\n\u001b[1;32m    851\u001b[0m             \u001b[0mself\u001b[0m\u001b[0;34m.\u001b[0m\u001b[0m_parent_ident\u001b[0m\u001b[0;34m,\u001b[0m\u001b[0;34m\u001b[0m\u001b[0;34m\u001b[0m\u001b[0m\n\u001b[1;32m    852\u001b[0m             \u001b[0mself\u001b[0m\u001b[0;34m.\u001b[0m\u001b[0m_parent_header\u001b[0m\u001b[0;34m,\u001b[0m\u001b[0;34m\u001b[0m\u001b[0;34m\u001b[0m\u001b[0m\n\u001b[0;32m--> 853\u001b[0;31m             \u001b[0mpassword\u001b[0m\u001b[0;34m=\u001b[0m\u001b[0;32mFalse\u001b[0m\u001b[0;34m,\u001b[0m\u001b[0;34m\u001b[0m\u001b[0;34m\u001b[0m\u001b[0m\n\u001b[0m\u001b[1;32m    854\u001b[0m         )\n\u001b[1;32m    855\u001b[0m \u001b[0;34m\u001b[0m\u001b[0m\n",
      "\u001b[0;32m/anaconda3/lib/python3.7/site-packages/ipykernel/kernelbase.py\u001b[0m in \u001b[0;36m_input_request\u001b[0;34m(self, prompt, ident, parent, password)\u001b[0m\n\u001b[1;32m    881\u001b[0m             \u001b[0;32mexcept\u001b[0m \u001b[0mKeyboardInterrupt\u001b[0m\u001b[0;34m:\u001b[0m\u001b[0;34m\u001b[0m\u001b[0;34m\u001b[0m\u001b[0m\n\u001b[1;32m    882\u001b[0m                 \u001b[0;31m# re-raise KeyboardInterrupt, to truncate traceback\u001b[0m\u001b[0;34m\u001b[0m\u001b[0;34m\u001b[0m\u001b[0;34m\u001b[0m\u001b[0m\n\u001b[0;32m--> 883\u001b[0;31m                 \u001b[0;32mraise\u001b[0m \u001b[0mKeyboardInterrupt\u001b[0m\u001b[0;34m\u001b[0m\u001b[0;34m\u001b[0m\u001b[0m\n\u001b[0m\u001b[1;32m    884\u001b[0m             \u001b[0;32melse\u001b[0m\u001b[0;34m:\u001b[0m\u001b[0;34m\u001b[0m\u001b[0;34m\u001b[0m\u001b[0m\n\u001b[1;32m    885\u001b[0m                 \u001b[0;32mbreak\u001b[0m\u001b[0;34m\u001b[0m\u001b[0;34m\u001b[0m\u001b[0m\n",
      "\u001b[0;31mKeyboardInterrupt\u001b[0m: "
     ]
    }
   ],
   "source": [
    "number_1 = random.randrange(0,10)\n",
    "number_2 = random.randrange(0,10)\n",
    "\n",
    "while 1:\n",
    "    sum_ = eval(input('>>'))\n",
    "    if sum_ == (number_1 + number_2):\n",
    "        print('Congratulations! Correct~')\n",
    "    else:\n",
    "        print('Sorry~SB.')"
   ]
  },
  {
   "cell_type": "code",
   "execution_count": null,
   "metadata": {},
   "outputs": [],
   "source": []
  },
  {
   "cell_type": "markdown",
   "metadata": {},
   "source": [
    "## if语句\n",
    "- 如果条件正确就执行一个单向if语句，亦即当条件为真的时候才执行if内部的语句\n",
    "- Python有很多选择语句:\n",
    "> - 单向if \n",
    "  - 双向if-else\n",
    "  - 嵌套if\n",
    "  - 多向if-elif-else\n",
    "  \n",
    "- 注意：当语句含有子语句的时候，那么一定至少要有一个缩进，也就是说如果有儿子存在，那么一定要缩进\n",
    "- 切记不可tab键和space混用，单用tab 或者 space\n",
    "- 当你输出的结果是无论if是否为真时都需要显示时，语句应该与if对齐"
   ]
  },
  {
   "cell_type": "code",
   "execution_count": 72,
   "metadata": {},
   "outputs": [
    {
     "name": "stdout",
     "output_type": "stream",
     "text": [
      ">>1\n",
      "正好\n",
      "不要灰心\n"
     ]
    }
   ],
   "source": [
    "input_  = eval(input('>>'))\n",
    "if input_ > number:\n",
    "    print('太大啦')\n",
    "if input_ < number:\n",
    "    print('太小啦')\n",
    "if number == input_:\n",
    "    print('正好')\n",
    "print('不要灰心')"
   ]
  },
  {
   "cell_type": "markdown",
   "metadata": {},
   "source": [
    "李文浩相亲测试树\n",
    "\n",
    "      年龄\n",
    "   老      年轻   \n",
    "拜拜          \n",
    "                 帅\n",
    "               否    是\n",
    "           考虑一下     老婆\n",
    "                    没有     有\n",
    "                 马上结婚     回家的诱惑\n",
    "                 \n",
    "代码写不出来的立马分手,从此社会上有多出一个渣男/渣女."
   ]
  },
  {
   "cell_type": "code",
   "execution_count": 4,
   "metadata": {},
   "outputs": [
    {
     "name": "stdout",
     "output_type": "stream",
     "text": [
      "年轻嘛[y/n]y\n",
      "帅否[y/n]y\n",
      "有没有老婆[y/n]y\n",
      "回家的诱惑\n"
     ]
    }
   ],
   "source": [
    "age = input('年轻嘛[y/n]')\n",
    "if age == 'y':\n",
    "    handsome = input('帅否[y/n]')\n",
    "    if handsome == 'y':\n",
    "        wife = input('有没有老婆[y/n]')\n",
    "        if wife == 'y':\n",
    "            print('回家的诱惑')\n",
    "        else:\n",
    "            print('立马结婚')\n",
    "    else:\n",
    "        print('考虑一下')\n",
    "else:\n",
    "    print('拜拜~')"
   ]
  },
  {
   "cell_type": "markdown",
   "metadata": {},
   "source": [
    "## EP：\n",
    "- 用户输入一个数字，判断其实奇数还是偶数\n",
    "- 进阶：可以查看下4.5实例研究猜生日"
   ]
  },
  {
   "cell_type": "markdown",
   "metadata": {},
   "source": [
    "## 双向if-else 语句\n",
    "- 如果条件为真，那么走if内部语句，否则走else内部语句"
   ]
  },
  {
   "cell_type": "markdown",
   "metadata": {},
   "source": [
    "## EP：\n",
    "- 产生两个随机整数number1和number2，然后显示给用户，使用户输入数字，并判定其是否正确,如果正确打印“you‘re correct”，否则打印正确错误"
   ]
  },
  {
   "cell_type": "markdown",
   "metadata": {},
   "source": [
    "## 嵌套if 和多向if-elif-else\n",
    "![](../Photo/35.png)"
   ]
  },
  {
   "cell_type": "code",
   "execution_count": null,
   "metadata": {},
   "outputs": [],
   "source": [
    "if score >= 80:\n",
    "    gread = 'B'\n",
    "elif score>=90:\n",
    "    gread = 'A'"
   ]
  },
  {
   "cell_type": "markdown",
   "metadata": {},
   "source": [
    "## EP：\n",
    "- 提示用户输入一个年份，然后显示表示这一年的动物\n",
    "![](../Photo/36.png)\n",
    "- 计算身体质量指数的程序\n",
    "- BMI = 以千克为单位的体重除以以米为单位的身高的平方\n",
    "![](../Photo/37.png)"
   ]
  },
  {
   "cell_type": "code",
   "execution_count": 9,
   "metadata": {},
   "outputs": [
    {
     "name": "stdout",
     "output_type": "stream",
     "text": [
      "体重500\n",
      "身高10000\n",
      "超清\n"
     ]
    }
   ],
   "source": [
    "tizhong  = eval(input('体重'))\n",
    "shengao = eval(input('身高'))\n",
    "BMI = tizhong / shengao ** 2\n",
    "if BMI<18.5 :\n",
    "    print('超清')\n",
    "elif 18.5<=BMI<25 :\n",
    "    print('标准')\n",
    "elif 25<=BMI<30 :\n",
    "    print('超重')\n",
    "else:\n",
    "    print('超级无敌胖')"
   ]
  },
  {
   "cell_type": "markdown",
   "metadata": {},
   "source": [
    "## 逻辑运算符\n",
    "![](../Photo/38.png)"
   ]
  },
  {
   "cell_type": "markdown",
   "metadata": {},
   "source": [
    "![](../Photo/39.png)\n",
    "![](../Photo/40.png)"
   ]
  },
  {
   "cell_type": "markdown",
   "metadata": {},
   "source": [
    "## EP：\n",
    "- 判定闰年：一个年份如果能被4整除但不能被100整除，或者能被400整除，那么这个年份就是闰年\n",
    "- 提示用户输入一个年份，并返回是否是闰年\n",
    "- 提示用户输入一个数字，判断其是否为水仙花数"
   ]
  },
  {
   "cell_type": "markdown",
   "metadata": {},
   "source": [
    "## 实例研究：彩票\n",
    "![](../Photo/41.png)"
   ]
  },
  {
   "cell_type": "code",
   "execution_count": 16,
   "metadata": {},
   "outputs": [],
   "source": [
    "import random"
   ]
  },
  {
   "cell_type": "code",
   "execution_count": 25,
   "metadata": {
    "scrolled": true
   },
   "outputs": [
    {
     "name": "stdout",
     "output_type": "stream",
     "text": [
      "24\n",
      ">>40\n",
      "1000\n"
     ]
    }
   ],
   "source": [
    "number = random.randint(10,99)\n",
    "print(number)\n",
    "N = input('>>')\n",
    "number_shi = number // 10\n",
    "number_ge = number % 10\n",
    "\n",
    "if N[0] == '0':\n",
    "    N_shi = 0\n",
    "else:\n",
    "    N_shi = int(N) // 10\n",
    "    N_ge = int(N) % 10\n",
    "\n",
    "if number == int(N):\n",
    "    print('10000')\n",
    "# elif (number_shi == N_shi or number_shi==N_ge) and (number_ge == N_shi or number_ge==N_ge):\n",
    "elif number_shi + number_ge == N_shi + N_ge:\n",
    "    print('3000')\n",
    "elif (number_ge ==N_ge or number_ge == N_shi) or (number_shi == N_ge or number_shi == N_shi):\n",
    "    print('1000')"
   ]
  },
  {
   "cell_type": "code",
   "execution_count": 3,
   "metadata": {},
   "outputs": [
    {
     "data": {
      "text/plain": [
       "'o'"
      ]
     },
     "execution_count": 3,
     "metadata": {},
     "output_type": "execute_result"
    }
   ],
   "source": [
    "a = \"05\"\n",
    "a[0]"
   ]
  },
  {
   "cell_type": "code",
   "execution_count": 22,
   "metadata": {},
   "outputs": [
    {
     "data": {
      "text/plain": [
       "'J'"
      ]
     },
     "execution_count": 22,
     "metadata": {},
     "output_type": "execute_result"
    }
   ],
   "source": [
    "05 // 10"
   ]
  },
  {
   "cell_type": "code",
   "execution_count": 14,
   "metadata": {},
   "outputs": [
    {
     "name": "stdout",
     "output_type": "stream",
     "text": [
      ">>123\n",
      "不是水仙花\n"
     ]
    }
   ],
   "source": [
    "Number = eval(input('>>'))\n",
    "\n",
    "bai = Number // 100\n",
    "shi = Number // 10 % 10\n",
    "ge = Number % 10\n",
    "\n",
    "if bai**3 + shi **3 + ge **3 == Number:\n",
    "    print('水仙花')\n",
    "else:\n",
    "    print('不是水仙花')"
   ]
  },
  {
   "cell_type": "code",
   "execution_count": 15,
   "metadata": {},
   "outputs": [
    {
     "data": {
      "text/plain": [
       "2"
      ]
     },
     "execution_count": 15,
     "metadata": {},
     "output_type": "execute_result"
    }
   ],
   "source": [
    "223 // 10"
   ]
  },
  {
   "cell_type": "markdown",
   "metadata": {},
   "source": [
    "# Homework\n",
    "- 1\n",
    "![](../Photo/42.png)"
   ]
  },
  {
   "cell_type": "code",
   "execution_count": 2,
   "metadata": {},
   "outputs": [
    {
     "name": "stdout",
     "output_type": "stream",
     "text": [
      "Enter a,b,c:1,2,3\n",
      "The equation has no real roots\n"
     ]
    }
   ],
   "source": [
    "a,b,c = eval(input(\"Enter a,b,c:\"))\n",
    "import math\n",
    "def judge(a,b,c):\n",
    "    \"\"\"\n",
    "        功能：返回判断式结果\n",
    "        参数：用户输入的数据\n",
    "    \"\"\"\n",
    "    result = 0\n",
    "    if((b*b)-(4*a*c)>0):\n",
    "        result=1\n",
    "    elif((b*b)-(4*a*c)==0):\n",
    "        result=0\n",
    "    else:\n",
    "        result=-1\n",
    "    return result\n",
    "\n",
    "if judge(a,b,c)==-1:\n",
    "    print(\"The equation has no real roots\")\n",
    "elif judge(a,b,c)==0:\n",
    "    r1 = (-b+(math.sqrt((b*b)-(4*a*c))))/(2*a)\n",
    "    print(\"The roots are %.0f\"%r1)\n",
    "elif judge(a,b,c==1):\n",
    "    r1 = (-b+(math.sqrt((b*b)-(4*a*c))))/(2*a)\n",
    "    r2 = (-b-(math.sqrt((b*b)-(4*a*c))))/(2*a)\n",
    "    print(\"The roots are %.6f and %.6f\"%(r1,r2))"
   ]
  },
  {
   "cell_type": "markdown",
   "metadata": {},
   "source": [
    "- 2\n",
    "![](../Photo/43.png)"
   ]
  },
  {
   "cell_type": "code",
   "execution_count": 3,
   "metadata": {},
   "outputs": [
    {
     "name": "stdout",
     "output_type": "stream",
     "text": [
      "87.000000 + 42.000000 ==100\n",
      "结果为假\n"
     ]
    }
   ],
   "source": [
    "import random\n",
    "num1 = random.randrange(0,100)\n",
    "num2 = random.randrange(0,100)\n",
    "sum_ = float(input(\"%f + %f ==\"%(num1,num2)))\n",
    "if(sum_ == num1 + num2):\n",
    "    print(\"结果为真\")\n",
    "else:\n",
    "    print(\"结果为假\")"
   ]
  },
  {
   "cell_type": "markdown",
   "metadata": {},
   "source": [
    "- 3\n",
    "![](../Photo/44.png)"
   ]
  },
  {
   "cell_type": "code",
   "execution_count": 4,
   "metadata": {},
   "outputs": [
    {
     "name": "stdout",
     "output_type": "stream",
     "text": [
      "Enter today's day:0\n",
      "Enter the number of days elapsed since today:31\n",
      "Today is Sunday and the future day is Wednesday\n"
     ]
    }
   ],
   "source": [
    "today = int(input(\"Enter today's day:\"))\n",
    "future = int(input(\"Enter the number of days elapsed since today:\"))\n",
    "week = ['Sunday','Monday','Tuesday','Wednesday','Thursday','Friday','Saturday']\n",
    "futureweek = today + future\n",
    "ok=0\n",
    "ok = futureweek % 7\n",
    "print(\"Today is %s and the future day is %s\"%(week[today],week[ok]))"
   ]
  },
  {
   "cell_type": "markdown",
   "metadata": {},
   "source": [
    "- 4\n",
    "![](../Photo/45.png)"
   ]
  },
  {
   "cell_type": "code",
   "execution_count": 5,
   "metadata": {},
   "outputs": [
    {
     "name": "stdout",
     "output_type": "stream",
     "text": [
      "第一个数：8\n",
      "第二个数：9\n",
      "第三个数：6\n",
      "[6, 8, 9]\n"
     ]
    }
   ],
   "source": [
    "a = int(input(\"第一个数：\"))\n",
    "b = int(input(\"第二个数：\"))\n",
    "c = int(input(\"第三个数：\"))\n",
    "t=0\n",
    "arr = [a,b,c]\n",
    "for j in range(3):\n",
    "    for i in range(2):\n",
    "        if(arr[i]>arr[i+1]):\n",
    "            t=arr[i]\n",
    "            arr[i]=arr[i+1]\n",
    "            arr[i+1]=t\n",
    "print(arr) "
   ]
  },
  {
   "cell_type": "markdown",
   "metadata": {},
   "source": [
    "- 5\n",
    "![](../Photo/46.png)"
   ]
  },
  {
   "cell_type": "code",
   "execution_count": 6,
   "metadata": {},
   "outputs": [
    {
     "name": "stdout",
     "output_type": "stream",
     "text": [
      "Enter weight and price for package 1:50,24.59\n",
      "Enter weight and price for package 2:25,11.99\n",
      "Package 2 has the better price.\n"
     ]
    }
   ],
   "source": [
    "First1,First2 = eval(input(\"Enter weight and price for package 1:\")) \n",
    "Second1,Second2 = eval(input(\"Enter weight and price for package 2:\"))\n",
    "price1 = First1 / First2\n",
    "price2 = Second1 / Second2\n",
    "if(price1>price2):\n",
    "    print(\"Package 1 has the better price.\")\n",
    "else:\n",
    "    print(\"Package 2 has the better price.\")"
   ]
  },
  {
   "cell_type": "markdown",
   "metadata": {},
   "source": [
    "- 6\n",
    "![](../Photo/47.png)"
   ]
  },
  {
   "cell_type": "code",
   "execution_count": 7,
   "metadata": {},
   "outputs": [
    {
     "name": "stdout",
     "output_type": "stream",
     "text": [
      "请输入月份：3\n",
      "请输入年份：2005\n",
      "2005年3月份有31天\n"
     ]
    }
   ],
   "source": [
    "month = input(\"请输入月份：\")\n",
    "year = int(input(\"请输入年份：\"))\n",
    "if(year % 100 == 0) or ( year % 4 == 0) and ( year % 100 != 0):\n",
    "    if month in '2':\n",
    "        print(\"%d年%s月份有29天\"%(year,month))\n",
    "    elif month in '1,3,5,7,8,10,12':\n",
    "        print(\"%d年%s月份有31天\"%(year,month))\n",
    "    elif month in '4,6,9,11':\n",
    "        print(\"%d年%s月份有30天\"%(year,month))\n",
    "    \n",
    "else:\n",
    "    if month in '2':\n",
    "        print(\"%d年%s月份有28天\"%(year,month))\n",
    "    elif month in '1,3,5,7,8,10,12':\n",
    "        print(\"%d年%s月份有31天\"%(year,month))\n",
    "    elif month in '4,6,9,11':\n",
    "        print(\"%d年%s月份有30天\"%(year,month))"
   ]
  },
  {
   "cell_type": "markdown",
   "metadata": {},
   "source": [
    "- 7\n",
    "![](../Photo/48.png)"
   ]
  },
  {
   "cell_type": "code",
   "execution_count": 11,
   "metadata": {},
   "outputs": [
    {
     "name": "stdout",
     "output_type": "stream",
     "text": [
      "请输入猜测值，[正/反]：正\n",
      "猜测错误\n"
     ]
    }
   ],
   "source": [
    "guess = input(\"请输入猜测值，[正/反]：\")\n",
    "import numpy as np\n",
    "res = np.random.choice(['正','反'])\n",
    "if (guess == res):\n",
    "    print(\"猜测正确\")\n",
    "else:\n",
    "    print(\"猜测错误\")"
   ]
  },
  {
   "cell_type": "markdown",
   "metadata": {},
   "source": [
    "- 8\n",
    "![](../Photo/49.png)"
   ]
  },
  {
   "cell_type": "code",
   "execution_count": 19,
   "metadata": {},
   "outputs": [
    {
     "name": "stdout",
     "output_type": "stream",
     "text": [
      "scissor (0),rock(1),paper(2):2\n",
      "The computer is paper. You are paper. It is a draw.\n"
     ]
    }
   ],
   "source": [
    "hand = input(\"scissor (0),rock(1),paper(2):\")\n",
    "import numpy as np\n",
    "res = np.random.choice(['0','1','2'])\n",
    "arr = ['scissor','rock','paper']\n",
    "if (hand == res):\n",
    "    print(\"The computer is %s. You are %s. It is a draw.\"%(arr[int(res)],arr[int(hand)]))\n",
    "elif( hand ==\"1\") and ( res == \"0\"):\n",
    "    print(\"The computer is %s. You are %s. You won.\"%(arr[int(res)],arr[int(hand)]))\n",
    "elif( hand == \"1\") and (res == \"2\"):\n",
    "    print(\"The computer is %s. You are %s. You lost.\"%(arr[int(res)],arr[int(hand)]))\n",
    "elif( hand == \"2\") and (res == \"1\"):\n",
    "    print(\"The computer is %s. You are %s. You won.\"%(arr[int(res)],arr[int(hand)]))\n",
    "elif( hand == \"2\") and (res == \"0\"):\n",
    "    print(\"The computer is %s. You are %s. You lost.\"%(arr[int(res)],arr[int(hand)]))\n",
    "elif( hand == \"0\") and (res == \"2\"):\n",
    "    print(\"The computer is %s. You are %s. You won.\"%(arr[int(res)],arr[int(hand)]))\n",
    "elif( hand == \"0\") and (res == \"1\"):\n",
    "    print(\"The computer is %s. You are %s. You lost.\"%(arr[int(res)],arr[int(hand)]))"
   ]
  },
  {
   "cell_type": "markdown",
   "metadata": {},
   "source": [
    "- 9\n",
    "![](../Photo/50.png)"
   ]
  },
  {
   "cell_type": "code",
   "execution_count": 26,
   "metadata": {},
   "outputs": [
    {
     "name": "stdout",
     "output_type": "stream",
     "text": [
      "Enter year: ( e.g. , 2008): 2012\n",
      "Enter month : 1-12: 5\n",
      "Enter the day of the month : 1-31: 12\n",
      "Day of week is Saturday\n"
     ]
    }
   ],
   "source": [
    "year = int(input(\"Enter year: ( e.g. , 2008): \"))\n",
    "month = int(input(\"Enter month : 1-12: \"))\n",
    "day = int(input(\"Enter the day of the month : 1-31: \"))\n",
    "import math\n",
    "h1 = day+math.floor((26*(month+1))/10)\n",
    "h2 =(year%100)+math.floor((year%100)/4)+math.floor(math.floor(year/100)/4)+5*math.floor(year/100)\n",
    "h=(h1+h2)%7\n",
    "week = ['Saturday','Sunday','Monday','Tuesday','Wednesday','Thursday','Friday']\n",
    "print(\"Day of week is %s\"%week[h])"
   ]
  },
  {
   "cell_type": "markdown",
   "metadata": {},
   "source": [
    "- 10\n",
    "![](../Photo/51.png)"
   ]
  },
  {
   "cell_type": "code",
   "execution_count": 36,
   "metadata": {
    "scrolled": true
   },
   "outputs": [
    {
     "name": "stdout",
     "output_type": "stream",
     "text": [
      "The card you picked is the King of Heart\n"
     ]
    }
   ],
   "source": [
    "import numpy as np\n",
    "size_ = np.random.choice(['Ace','2','3','4','5','6','7','8','9','10','Jack','Queen','King'])\n",
    "color_ = np.random.choice(['Plum blossom','Heart','Square sheet','Spade'])\n",
    "print(\"The card you picked is the %s of %s\"%(size_,color_))"
   ]
  },
  {
   "cell_type": "markdown",
   "metadata": {},
   "source": [
    "- 11\n",
    "![](../Photo/52.png)"
   ]
  },
  {
   "cell_type": "code",
   "execution_count": 6,
   "metadata": {},
   "outputs": [
    {
     "name": "stdout",
     "output_type": "stream",
     "text": [
      "Enter a three-digit integer : 123\n",
      "123 is not a palindrome\n"
     ]
    }
   ],
   "source": [
    "palindrome = int(input(\"Enter a three-digit integer : \"))\n",
    "bai = palindrome // 100\n",
    "shi = palindrome %100 // 10\n",
    "ge = palindrome % 100 % 10\n",
    "if(bai == ge):\n",
    "    print(\"%d is a palindrome\"%palindrome)\n",
    "else:\n",
    "    print(\"%d is not a palindrome\"%palindrome)"
   ]
  },
  {
   "cell_type": "markdown",
   "metadata": {},
   "source": [
    "- 12\n",
    "![](../Photo/53.png)"
   ]
  },
  {
   "cell_type": "code",
   "execution_count": 11,
   "metadata": {},
   "outputs": [
    {
     "name": "stdout",
     "output_type": "stream",
     "text": [
      "Enter three edges: 1,1,1\n",
      "The perimeter is 3\n"
     ]
    }
   ],
   "source": [
    "edges1,edges2,edges3 = eval(input(\"Enter three edges: \"))\n",
    "if(edges1+edges2>edges3) and (edges1+edges3>edges2) and (edges2+edges3>edges1):\n",
    "    print(\"The perimeter is %d\"%(edges1+edges2+edges3))\n",
    "else:\n",
    "    print(\"This input is illegal\")"
   ]
  }
 ],
 "metadata": {
  "kernelspec": {
   "display_name": "Python 3",
   "language": "python",
   "name": "python3"
  },
  "language_info": {
   "codemirror_mode": {
    "name": "ipython",
    "version": 3
   },
   "file_extension": ".py",
   "mimetype": "text/x-python",
   "name": "python",
   "nbconvert_exporter": "python",
   "pygments_lexer": "ipython3",
   "version": "3.7.3"
  }
 },
 "nbformat": 4,
 "nbformat_minor": 2
}
