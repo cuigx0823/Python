{
 "cells": [
  {
   "cell_type": "markdown",
   "metadata": {},
   "source": [
    "# 基本程序设计\n",
    "- 一切代码输入，请使用英文输入法"
   ]
  },
  {
   "cell_type": "markdown",
   "metadata": {},
   "source": [
    "## 编写一个简单的程序\n",
    "- 圆公式面积： area = radius \\* radius \\* 3.1415"
   ]
  },
  {
   "cell_type": "markdown",
   "metadata": {},
   "source": [
    "### 在Python里面不需要定义数据的类型"
   ]
  },
  {
   "cell_type": "markdown",
   "metadata": {},
   "source": [
    "## 控制台的读取与输入\n",
    "- input 输入进去的是字符串\n",
    "- eval"
   ]
  },
  {
   "cell_type": "markdown",
   "metadata": {},
   "source": [
    "- 在jupyter用shift + tab 键可以跳出解释文档"
   ]
  },
  {
   "cell_type": "markdown",
   "metadata": {},
   "source": [
    "## 变量命名的规范\n",
    "- 由字母、数字、下划线构成\n",
    "- 不能以数字开头 \\*\n",
    "- 标识符不能是关键词(实际上是可以强制改变的，但是对于代码规范而言是极其不适合)\n",
    "- 可以是任意长度\n",
    "- 驼峰式命名"
   ]
  },
  {
   "cell_type": "markdown",
   "metadata": {},
   "source": [
    "## 变量、赋值语句和赋值表达式\n",
    "- 变量: 通俗理解为可以变化的量\n",
    "- x = 2 \\* x + 1 在数学中是一个方程，而在语言中它是一个表达式\n",
    "- test = test + 1 \\* 变量在赋值之前必须有值"
   ]
  },
  {
   "cell_type": "markdown",
   "metadata": {},
   "source": [
    "## 同时赋值\n",
    "var1, var2,var3... = exp1,exp2,exp3..."
   ]
  },
  {
   "cell_type": "markdown",
   "metadata": {},
   "source": [
    "## 定义常量\n",
    "- 常量：表示一种定值标识符，适合于多次使用的场景。比如PI\n",
    "- 注意：在其他低级语言中如果定义了常量，那么，该常量是不可以被改变的，但是在Python中一切皆对象，常量也是可以被改变的"
   ]
  },
  {
   "cell_type": "markdown",
   "metadata": {},
   "source": [
    "## 数值数据类型和运算符\n",
    "- 在Python中有两种数值类型（int 和 float）适用于加减乘除、模、幂次\n",
    "<img src = \"../Photo/01.jpg\"></img>"
   ]
  },
  {
   "cell_type": "markdown",
   "metadata": {},
   "source": [
    "## 运算符 /、//、**"
   ]
  },
  {
   "cell_type": "markdown",
   "metadata": {},
   "source": [
    "## 运算符 %"
   ]
  },
  {
   "cell_type": "markdown",
   "metadata": {},
   "source": [
    "## EP：\n",
    "- 25/4 多少，如果要将其转变为整数该怎么改写\n",
    "- 输入一个数字判断是奇数还是偶数\n",
    "- 进阶: 输入一个秒数，写一个程序将其转换成分和秒：例如500秒等于8分20秒\n",
    "- 进阶: 如果今天是星期六，那么10天以后是星期几？ 提示：每个星期的第0天是星期天"
   ]
  },
  {
   "cell_type": "markdown",
   "metadata": {},
   "source": [
    "## 科学计数法\n",
    "- 1.234e+2\n",
    "- 1.234e-2"
   ]
  },
  {
   "cell_type": "markdown",
   "metadata": {},
   "source": [
    "## 计算表达式和运算优先级\n",
    "<img src = \"../Photo/02.png\"></img>\n",
    "<img src = \"../Photo/03.png\"></img>"
   ]
  },
  {
   "cell_type": "markdown",
   "metadata": {},
   "source": [
    "## 增强型赋值运算\n",
    "<img src = \"../Photo/04.png\"></img>"
   ]
  },
  {
   "cell_type": "markdown",
   "metadata": {},
   "source": [
    "## 类型转换\n",
    "- float  -> int\n",
    "- 四舍五入 round"
   ]
  },
  {
   "cell_type": "markdown",
   "metadata": {},
   "source": [
    "## EP:\n",
    "- 如果一个年营业税为0.06%，那么对于197.55e+2的年收入，需要交税为多少？(结果保留2为小数)\n",
    "- 必须使用科学计数法"
   ]
  },
  {
   "cell_type": "markdown",
   "metadata": {},
   "source": [
    "# Project\n",
    "- 用Python写一个贷款计算器程序：输入的是月供(monthlyPayment) 输出的是总还款数(totalpayment)\n",
    "![](../Photo/05.png)"
   ]
  },
  {
   "cell_type": "markdown",
   "metadata": {},
   "source": [
    "# Homework\n",
    "- 1\n",
    "<img src=\"../Photo/06.png\"></img>"
   ]
  },
  {
   "cell_type": "markdown",
   "metadata": {},
   "source": [
    "- 2\n",
    "<img src=\"../Photo/07.png\"></img>"
   ]
  },
  {
   "cell_type": "markdown",
   "metadata": {},
   "source": [
    "- 3\n",
    "<img src=\"../Photo/08.png\"></img>"
   ]
  },
  {
   "cell_type": "markdown",
   "metadata": {},
   "source": [
    "- 4\n",
    "<img src=\"../Photo/10.png\"></img>"
   ]
  },
  {
   "cell_type": "markdown",
   "metadata": {},
   "source": [
    "- 5\n",
    "<img src=\"../Photo/11.png\"></img>"
   ]
  },
  {
   "cell_type": "markdown",
   "metadata": {},
   "source": [
    "- 6\n",
    "<img src=\"../Photo/12.png\"></img>"
   ]
  },
  {
   "cell_type": "markdown",
   "metadata": {},
   "source": [
    "- 7 进阶\n",
    "<img src=\"../Photo/13.png\"></img>"
   ]
  },
  {
   "cell_type": "markdown",
   "metadata": {},
   "source": [
    "- 8 进阶\n",
    "<img src=\"../Photo/14.png\"></img>"
   ]
  }
 ],
 "metadata": {
  "kernelspec": {
   "display_name": "Python 3",
   "language": "python",
   "name": "python3"
  },
  "language_info": {
   "codemirror_mode": {
    "name": "ipython",
    "version": 3
   },
   "file_extension": ".py",
   "mimetype": "text/x-python",
   "name": "python",
   "nbconvert_exporter": "python",
   "pygments_lexer": "ipython3",
   "version": "3.7.3"
  }
 },
 "nbformat": 4,
 "nbformat_minor": 2
}
